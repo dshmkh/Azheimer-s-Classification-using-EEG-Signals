{
  "nbformat": 4,
  "nbformat_minor": 0,
  "metadata": {
    "colab": {
      "name": "GAN-Network.ipynb",
      "provenance": []
    },
    "kernelspec": {
      "name": "python3",
      "display_name": "Python 3"
    },
    "language_info": {
      "name": "python"
    }
  },
  "cells": [
    {
      "cell_type": "code",
      "metadata": {
        "id": "PJ-sFFUUnzx0"
      },
      "source": [
        "'''\n",
        "\n",
        "Script to use GAN network for Data Augmentation\n",
        "\n",
        "- Read up literature related to GAN networks\n",
        "- Find out if Scikit-learn is possible to use\n",
        "- Look up github code for other implementations, although most implementations are probably images\n",
        "- Get a script and modify it for the required parameters ie only 1 column\n",
        "- Make a single variable function that can increase the data.\n",
        "- Figure out how much to increase the data, and what is feasible witout compromisin the integrity of the data\n",
        "\n",
        "'''"
      ],
      "execution_count": null,
      "outputs": []
    },
    {
      "cell_type": "code",
      "metadata": {
        "id": "sGUk2xNmom92"
      },
      "source": [
        ""
      ],
      "execution_count": null,
      "outputs": []
    }
  ]
}